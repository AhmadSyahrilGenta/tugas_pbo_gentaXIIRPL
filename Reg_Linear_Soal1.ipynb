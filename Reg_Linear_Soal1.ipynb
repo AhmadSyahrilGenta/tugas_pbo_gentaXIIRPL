{
  "nbformat": 4,
  "nbformat_minor": 0,
  "metadata": {
    "colab": {
      "private_outputs": true,
      "provenance": []
    },
    "kernelspec": {
      "name": "python3",
      "display_name": "Python 3"
    },
    "language_info": {
      "name": "python"
    }
  },
  "cells": [
    {
      "cell_type": "code",
      "execution_count": null,
      "metadata": {
        "id": "zzZZ7yDxUS8N"
      },
      "outputs": [],
      "source": [
        "from google.colab import drive #memanggil package untuk path file\n",
        "drive.mount('/content/drive')\n",
        "#1. URL , 2. UPLOAD CSV , DATASET YANG DI SEDIAKAN OLEH SKLEARN"
      ]
    },
    {
      "cell_type": "code",
      "source": [
        "import pandas as pd #MANIPULASI DATA\n",
        "\n",
        "path ='/content/drive/MyDrive/Colab Notebooks/csv/indonesia - Sheet1 (1).csv' #PATH ATAU PEMANGGIL\n",
        "df = pd.read_csv(path) #DF : DATAFRAME / UNTUK PENAMAAN BEBAS\n",
        "\n",
        "df.describe() #melihat struktur data"
      ],
      "metadata": {
        "id": "AWnn-165DOFF"
      },
      "execution_count": null,
      "outputs": []
    },
    {
      "cell_type": "code",
      "source": [
        "from google.colab import drive\n",
        "drive.mount('/content/drive')"
      ],
      "metadata": {
        "id": "N39z3KK-EGoc"
      },
      "execution_count": null,
      "outputs": []
    },
    {
      "cell_type": "code",
      "source": [
        "df"
      ],
      "metadata": {
        "id": "k3x90cCOEK0R"
      },
      "execution_count": null,
      "outputs": []
    },
    {
      "cell_type": "code",
      "source": [
        "import matplotlib.pyplot as plt #VISUALISASI DATA\n",
        "\n",
        "df.plot(kind='scatter', x='Life expectancy', y='percentage expenditure') #UNTUK NAMA VARIABLE\n",
        "\n",
        "plt.title('indonesia')\n",
        "plt.xlabel('Life expectancy')\n",
        "plt.ylabel('percentage expenditure')\n",
        "plt.xlim(69, 65)  #UNTUK MEMBUAT BATAS PADA VISUALISASI X\n",
        "plt.ylim(0, 65)  #UNTUK MEMBUAT BATAS PADA VISUALISASI Y\n",
        "plt.grid(True)\n",
        "plt.show()"
      ],
      "metadata": {
        "id": "3dgkCM6uLHpk"
      },
      "execution_count": null,
      "outputs": []
    },
    {
      "cell_type": "code",
      "source": [
        "X = x.reshape(-1, 1) #Reshaping atau slice data\n",
        "X.shape"
      ],
      "metadata": {
        "id": "swCK2-RJLsua"
      },
      "execution_count": null,
      "outputs": []
    },
    {
      "cell_type": "code",
      "source": [
        "X"
      ],
      "metadata": {
        "id": "2J7HUOtJLv0B"
      },
      "execution_count": null,
      "outputs": []
    },
    {
      "cell_type": "code",
      "source": [
        "X_vis = np.array([0, 10000]).reshape(-1, 1) #pembuatan garis merah dari X\n",
        "y_vis = model.predict(X_vis) #MODEL MACHINE LEARNING"
      ],
      "metadata": {
        "id": "Fcc-4OtupfFO"
      },
      "execution_count": null,
      "outputs": []
    },
    {
      "cell_type": "code",
      "source": [
        "plt.scatter(X, y)\n",
        "plt.plot(X_vis, y_vis, '-r')\n",
        "plt.title('indeks kesejahteraan warga')\n",
        "plt.xlabel('jumlah penduduk')\n",
        "plt.ylabel('indeks')\n",
        "plt.xlim(0, 10000) #UNTUK MEMBUAT BATAS PADA VISUALISASI X\n",
        "plt.ylim(0, 20) #UNTUK MEMBUAT BATAS PADA VISUALISASI Y\n",
        "plt.grid(True)\n",
        "plt.show()"
      ],
      "metadata": {
        "id": "xZjnX7ywpjkY"
      },
      "execution_count": null,
      "outputs": []
    }
  ]
}