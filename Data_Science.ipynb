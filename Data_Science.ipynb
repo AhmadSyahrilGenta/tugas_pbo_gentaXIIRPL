{
  "nbformat": 4,
  "nbformat_minor": 0,
  "metadata": {
    "colab": {
      "private_outputs": true,
      "provenance": []
    },
    "kernelspec": {
      "name": "python3",
      "display_name": "Python 3"
    },
    "language_info": {
      "name": "python"
    }
  },
  "cells": [
    {
      "cell_type": "code",
      "execution_count": null,
      "metadata": {
        "id": "CBq-Mhx-E-Ta"
      },
      "outputs": [],
      "source": [
        "import statistics\n",
        "import pandas as pd\n",
        "import numpy as np\n",
        "from scipy import stats\n",
        "import matplotlib.pyplot as plt"
      ]
    },
    {
      "cell_type": "code",
      "source": [
        "#SOAL NO 1\n",
        "\n",
        "a = 3\n",
        "b = 2\n",
        "c = 4\n",
        "d = 5\n",
        "e = 6\n",
        "f = 1\n",
        "g = 5\n",
        "h = 6 \n",
        "i = 3\n",
        "j = 2\n",
        "k = 2\n",
        "l = 1\n",
        "m = 3\n",
        "n = 1\n",
        "o = 5\n",
        "satudadu = 6\n",
        "hasil = (a/satudadu)\n",
        "print(\"hasil dari 1 = \" + str(hasil))\n",
        "hasil = (b/satudadu)\n",
        "print(\"hasil dari 2 = \" + str(hasil))\n",
        "hasil = (c/satudadu)\n",
        "print(\"hasil dari 3 = \" + str(hasil))\n",
        "hasil = (d/satudadu)\n",
        "print(\"hasil dari 4 = \" + str(hasil))\n",
        "hasil = (e/satudadu)\n",
        "print(\"hasil dari 5 = \" + str(hasil))\n",
        "hasil = (f/satudadu)\n",
        "print(\"hasil dari 6 = \" + str(hasil))\n",
        "hasil = (g/satudadu)\n",
        "print(\"hasil dari 7 = \" + str(hasil))\n",
        "hasil = (h/satudadu)\n",
        "print(\"hasil dari 8 = \" + str(hasil))\n",
        "hasil = (i/satudadu)\n",
        "print(\"hasil dari 9 = \" + str(hasil))\n",
        "hasil = (j/satudadu)\n",
        "print(\"hasil dari 10 = \" + str(hasil))\n",
        "hasil = (k/satudadu)\n",
        "print(\"hasil dari 11 = \" + str(hasil))\n",
        "hasil = (l/satudadu)\n",
        "print(\"hasil dari 12 = \" + str(hasil))\n",
        "hasil = (m/satudadu)\n",
        "print(\"hasil dari 13 = \" + str(hasil))\n",
        "hasil = (n/satudadu)\n",
        "print(\"hasil dari 14 = \" + str(hasil))"
      ],
      "metadata": {
        "id": "0zTu-8NNFcK9"
      },
      "execution_count": null,
      "outputs": []
    },
    {
      "cell_type": "code",
      "source": [
        "# kedua\n",
        "hasil = (a+b+c+d+e+f+g+h+i+j+k+l+m+n+o)\n",
        "print(\"hasil dari total probilitas = \" + str(hasil))"
      ],
      "metadata": {
        "id": "dk0neuFTbyMf"
      },
      "execution_count": null,
      "outputs": []
    },
    {
      "cell_type": "code",
      "source": [
        "# ketiga\n",
        "hasil = (a/satudadu)\n",
        "print(\"hasil dari nilai <5 = \" + str(hasil))\n",
        "hasil = (b/satudadu)\n",
        "print(\"hasil dari nilai <5 = \" + str(hasil))\n",
        "hasil = (c/satudadu)\n",
        "print(\"hasil dari nilai <5 = \" + str(hasil))\n",
        "hasil = (f/satudadu)\n",
        "print(\"hasil dari nilai <5 = \" + str(hasil))\n",
        "hasil = (i/satudadu)\n",
        "print(\"hasil dari nilai <5 = \" + str(hasil))\n",
        "hasil = (j/satudadu)\n",
        "print(\"hasil dari nilai <5 = \" + str(hasil))\n",
        "hasil = (k/satudadu)\n",
        "print(\"hasil dari nilai <5 = \" + str(hasil))\n",
        "hasil = (l/satudadu)\n",
        "print(\"hasil dari nilai <5 = \" + str(hasil))\n",
        "hasil = (m/satudadu)\n",
        "print(\"hasil dari nilai <5 = \" + str(hasil))\n",
        "hasil = (n/satudadu)\n",
        "print(\"hasil dari nilai <5 = \" + str(hasil))"
      ],
      "metadata": {
        "id": "_lO_EzRyb3FR"
      },
      "execution_count": null,
      "outputs": []
    },
    {
      "cell_type": "code",
      "source": [
        "# dua kali dadu\n",
        "a = 9\n",
        "b = 11\n",
        "c = 3\n",
        "d = 6\n",
        "e = 2\n",
        "f = 4 \n",
        "g = 9\n",
        "h = 12\n",
        "i = 10\n",
        "j = 8\n",
        "k = 2\n",
        "l = 6\n",
        "m = 3\n",
        "n = 4\n",
        "o = 9\n",
        "p = 8\n",
        "q = 5\n",
        "r = 6\n",
        "s = 11\n",
        "t = 10\n",
        "duadadu=12\n",
        "hasil = (a/duadadu)\n",
        "print(\"hasil dari 1 = \" + str(hasil))\n",
        "hasil = (b/duadadu)\n",
        "print(\"hasil dari 2 = \" + str(hasil))\n",
        "hasil = (c/duadadu)\n",
        "print(\"hasil dari 3 = \" + str(hasil))\n",
        "hasil = (d/duadadu)\n",
        "print(\"hasil dari 4 = \" + str(hasil))\n",
        "hasil = (e/duadadu)\n",
        "print(\"hasil dari 5 = \" + str(hasil))\n",
        "hasil = (f/duadadu)\n",
        "print(\"hasil dari 6 = \" + str(hasil))\n",
        "hasil = (g/duadadu)\n",
        "print(\"hasil dari 7 = \" + str(hasil))\n",
        "hasil = (h/duadadu)\n",
        "print(\"hasil dari 8 = \" + str(hasil))\n",
        "hasil = (i/duadadu)\n",
        "print(\"hasil dari 9 = \" + str(hasil))\n",
        "hasil = (j/duadadu)\n",
        "print(\"hasil dari 10 = \" + str(hasil))\n",
        "hasil = (k/duadadu)\n",
        "print(\"hasil dari 11 = \" + str(hasil))\n",
        "hasil = (l/duadadu)\n",
        "print(\"hasil dari 12 = \" + str(hasil))\n",
        "hasil = (m/duadadu)\n",
        "print(\"hasil dari 13 = \" + str(hasil))\n",
        "hasil = (n/duadadu)\n",
        "print(\"hasil dari 14 = \" + str(hasil))\n",
        "hasil = (0/duadadu)\n",
        "print(\"hasil dari 15 = \" + str(hasil))\n",
        "hasil = (p/duadadu)\n",
        "print(\"hasil dari 16 = \" + str(hasil))\n",
        "hasil = (q/duadadu)\n",
        "print(\"hasil dari 17 = \" + str(hasil))\n",
        "hasil = (r/duadadu)\n",
        "print(\"hasil dari 18 = \" + str(hasil))\n",
        "hasil = (s/duadadu)\n",
        "print(\"hasil dari 19 = \" + str(hasil))\n",
        "hasil = (t/duadadu)\n",
        "print(\"hasil dari 20 = \" + str(hasil))"
      ],
      "metadata": {
        "id": "trRWNJU5b84i"
      },
      "execution_count": null,
      "outputs": []
    },
    {
      "cell_type": "code",
      "source": [
        "#kedua\n",
        "hasil = (a+b+c+d+e+f+g+h+i+j+k+l+m+n+o+p+q+r+s+t)\n",
        "print(\"hasil dari total probilitas = \" + str(hasil))\n"
      ],
      "metadata": {
        "id": "zjfj78SwcOrJ"
      },
      "execution_count": null,
      "outputs": []
    },
    {
      "cell_type": "code",
      "source": [
        "#ketiga\n",
        " \n",
        "hasil = (d/duadadu)\n",
        "print(\"hasil dari 1 = \" + str(hasil))\n",
        "hasil = (e/duadadu)\n",
        "print(\"hasil dari 2 = \" + str(hasil))\n",
        "hasil = (f/duadadu)\n",
        "print(\"hasil dari 3 = \" + str(hasil))\n",
        "hasil = (h/duadadu)\n",
        "print(\"hasil dari 4 = \" + str(hasil))\n",
        "hasil = (i/duadadu)\n",
        "print(\"hasil dari 5 = \" + str(hasil))\n",
        "hasil = (j/duadadu)\n",
        "print(\"hasil dari 6 = \" + str(hasil))\n",
        "hasil = (k/duadadu)\n",
        "print(\"hasil dari 7 = \" + str(hasil))\n",
        "hasil = (l/duadadu)\n",
        "print(\"hasil dari 8 = \" + str(hasil))\n",
        "hasil = (n/duadadu)\n",
        "print(\"hasil dari 9 = \" + str(hasil))\n",
        "hasil = (p/duadadu)\n",
        "print(\"hasil dari 10 = \" + str(hasil))\n",
        "hasil = (r/duadadu)\n",
        "print(\"hasil dari 11 = \" + str(hasil))\n",
        "hasil = (t/duadadu)\n",
        "print(\"hasil dari 12 = \" + str(hasil))"
      ],
      "metadata": {
        "id": "13CzMy5IgTRQ"
      },
      "execution_count": null,
      "outputs": []
    },
    {
      "cell_type": "code",
      "source": [
        "#SOAL NO 2 toserba\n",
        "print(\"minggu 1\")\n",
        "a = 6560860\n",
        "b = 5950850\n",
        "c = 12685900\n",
        "d = 5768500\n",
        "e = 2989000\n",
        "hasil = (a+b+c+d+e)\n",
        "print(\"hasil dari minggu 1 = \" + str(hasil))\n",
        "print(\"minggu 2\")\n",
        "f = 8782150\n",
        "g = 6620000\n",
        "h = 5128750\n",
        "i = 5217300\n",
        "j = 4820600\n",
        "hasil = (f+g+h+i+j)\n",
        "print(\"hasil dari minggu 2 = \" + str(hasil))\n",
        "print(\"minggu 3\")\n",
        "o = 8130940\n",
        "n = 2940650\n",
        "m = 3488200\n",
        "l = 6930540\n",
        "k = 4319260\n",
        "hasil = (o+n+m+l+k)\n",
        "print(\"hasil dari minggu 3 = \" + str(hasil))\n",
        "print(\"minggu 4\")\n",
        "p = 12849100\n",
        "q = 5752200\n",
        "r = 5128400\n",
        "s = 3880490\n",
        "t = 4982100\n",
        "hasil = (p+q+r+s+t)\n",
        "print(\"hasil dari minggu 4 = \" + str(hasil))"
      ],
      "metadata": {
        "id": "_NZjeLtftfja"
      },
      "execution_count": null,
      "outputs": []
    },
    {
      "cell_type": "code",
      "source": [
        "#grafik bar\n",
        "fig = plt.figure()\n",
        "ax =  fig.add_axes([0,0,1,1])\n",
        "minggu = ['minggu1','minggu2','minggu3','minggu4']\n",
        "jumlah=[33955110, 30568800, 30568800, 32592290]\n",
        "c = ['red', 'green', 'blue','yellow']\n",
        "plt.title(\"toserba\")\n",
        "plt.bar(minggu, jumlah, color=c)\n",
        "plt.show()"
      ],
      "metadata": {
        "id": "w7431va2tjhX"
      },
      "execution_count": null,
      "outputs": []
    },
    {
      "cell_type": "code",
      "source": [
        "#sactter plot\n",
        "fig = plt.figure()\n",
        "ax =  fig.add_axes([0,0,1,1])\n",
        "minggu = ['minggu1','minggu2','minggu3','minggu4']\n",
        "jumlah=[33955110, 30568800, 30568800, 32592290]\n",
        "plt.title(\"toserba\")\n",
        "ax.scatter(minggu, jumlah,)\n",
        "plt.show()"
      ],
      "metadata": {
        "id": "61FYfk_nto7e"
      },
      "execution_count": null,
      "outputs": []
    },
    {
      "cell_type": "code",
      "source": [
        "#pie chart\n",
        "fig = plt.figure()\n",
        "ax = fig.add_axes([0,0,1,1])\n",
        "ax.axis('equal')\n",
        "minggu = ['minggu1','minggu2','minggu3','minggu4']\n",
        "jumlah=[33955110, 30568800, 30568800, 32592290]\n",
        "ax.pie(jumlah,labels=minggu,autopct='%1.2f%%')\n",
        "plt.title(\"toserba\")\n",
        "plt.show()"
      ],
      "metadata": {
        "id": "owGNupqwtrpd"
      },
      "execution_count": null,
      "outputs": []
    },
    {
      "cell_type": "code",
      "source": [
        "#SOAL NO 3\n"
      ],
      "metadata": {
        "id": "KDVDIPFRtuEd"
      },
      "execution_count": null,
      "outputs": []
    }
  ]
}